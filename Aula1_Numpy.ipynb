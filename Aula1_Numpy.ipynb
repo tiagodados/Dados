{
  "nbformat": 4,
  "nbformat_minor": 0,
  "metadata": {
    "colab": {
      "provenance": [],
      "include_colab_link": true
    },
    "kernelspec": {
      "name": "python3",
      "display_name": "Python 3"
    },
    "language_info": {
      "name": "python"
    }
  },
  "cells": [
    {
      "cell_type": "markdown",
      "metadata": {
        "id": "view-in-github",
        "colab_type": "text"
      },
      "source": [
        "<a href=\"https://colab.research.google.com/github/tiagodados/Dados/blob/master/Aula1_Numpy.ipynb\" target=\"_parent\"><img src=\"https://colab.research.google.com/assets/colab-badge.svg\" alt=\"Open In Colab\"/></a>"
      ]
    },
    {
      "cell_type": "markdown",
      "source": [
        "## **AULA 1 - Introdução à Numpy**\n",
        "\n",
        "---\n",
        "\n",
        "- Biblioteca universal que possibilita o trabalho com dados numéricos em Python e pode ser usada para realizar uma ampla variedade de operações matemáticas em matrizes.\n",
        "\n",
        "- Tipos de dados:\n",
        "  - *Homogeneous multidimensional array*.\n",
        "\n",
        "- Porque usar a *Numpy*?  \n",
        "  - Matrizes *Numpy* são mais rápidas e compactas do que as *Python Lists* (e.g.). Uma matriz irá consumir uma menor quantidade de memória. Isso permite uma otimização do código."
      ],
      "metadata": {
        "id": "9kR5Mmri88nr"
      }
    },
    {
      "cell_type": "markdown",
      "source": [
        "> **ESTRUTURAS DE DADOS**\n",
        "\n",
        "---\n",
        "\n",
        "***Array***\n",
        "\n",
        "- É uma grade de valores e contém informações sobre os dados brutos.\n",
        "- Uma array pode ser indexada por uma tupla de inteiros não negativos, por booleanos, por outro array ou por inteiros.\n",
        "\n",
        "![matriz.png](data:image/png;base64,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)"
      ],
      "metadata": {
        "id": "F7CvWFUgG-XD"
      }
    },
    {
      "cell_type": "markdown",
      "source": [
        "> Começando a usar a biblioteca *Numpy*..."
      ],
      "metadata": {
        "id": "MvuAg-imH0ed"
      }
    },
    {
      "cell_type": "code",
      "source": [
        "# Instalando a biblioteca\n",
        "\n",
        "!pip install numpy"
      ],
      "metadata": {
        "colab": {
          "base_uri": "https://localhost:8080/"
        },
        "id": "_1DjkFUY8z0i",
        "outputId": "e0a8c2de-6b3b-4fdc-b785-c8d207c7ec41"
      },
      "execution_count": 1,
      "outputs": [
        {
          "output_type": "stream",
          "name": "stdout",
          "text": [
            "Looking in indexes: https://pypi.org/simple, https://us-python.pkg.dev/colab-wheels/public/simple/\n",
            "Requirement already satisfied: numpy in /usr/local/lib/python3.9/dist-packages (1.22.4)\n"
          ]
        }
      ]
    },
    {
      "cell_type": "code",
      "execution_count": 3,
      "metadata": {
        "id": "XoeH781h8KUf"
      },
      "outputs": [],
      "source": [
        "# Importando a biblioteca\n",
        "\n",
        "import numpy as np"
      ]
    },
    {
      "cell_type": "markdown",
      "source": [
        "> Criando uma *array*...\n",
        "\n",
        "```\n",
        "np.arange()\n",
        "\n",
        "np.array()\n",
        "\n",
        "np.linspace()\n",
        "\n",
        "```\n",
        "\n"
      ],
      "metadata": {
        "id": "TZBA9ZqmJa5J"
      }
    },
    {
      "cell_type": "markdown",
      "source": [
        "> Entendendo na prática o que é uma array:\n",
        "\n",
        "- As dimensões são chamadas de `axes`.\n",
        "\n",
        "- O número de `axes` é chamado de `rank`."
      ],
      "metadata": {
        "id": "CIJNaeHSH_aQ"
      }
    },
    {
      "cell_type": "code",
      "source": [
        "# Criando uma matriz a partir de uma lista de valores\n",
        "\n",
        "b = np.array([1,2,3])\n",
        "print(b)\n",
        "b.shape    # Retorna uma tupla de inteiros indicando o tamanho da array em cada dimensão (linhas, colunas)\n",
        "b.ndim     # Retorna o rank (número de axes, ou seja, a quantidade de dimensões)"
      ],
      "metadata": {
        "colab": {
          "base_uri": "https://localhost:8080/"
        },
        "id": "gam5qZ-qKW2v",
        "outputId": "9e9441d2-61ee-49cc-fcb3-acf1e984a92a"
      },
      "execution_count": null,
      "outputs": [
        {
          "output_type": "stream",
          "name": "stdout",
          "text": [
            "[1 2 3]\n"
          ]
        },
        {
          "output_type": "execute_result",
          "data": {
            "text/plain": [
              "1"
            ]
          },
          "metadata": {},
          "execution_count": 8
        }
      ]
    },
    {
      "cell_type": "code",
      "source": [
        "a = np.array([1,2,3])\n",
        "print(a)\n",
        "a.shape"
      ],
      "metadata": {
        "id": "pya_j9GaO7AG",
        "outputId": "28253891-c0c8-4dbd-a148-f0b6736b80f0",
        "colab": {
          "base_uri": "https://localhost:8080/"
        }
      },
      "execution_count": 5,
      "outputs": [
        {
          "output_type": "stream",
          "name": "stdout",
          "text": [
            "[1 2 3]\n"
          ]
        }
      ]
    },
    {
      "cell_type": "markdown",
      "source": [
        "![DATA_ANALYSIS.drawio (8).png](data:image/png;base64,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)"
      ],
      "metadata": {
        "id": "ZpJxWeo8MLz0"
      }
    },
    {
      "cell_type": "code",
      "source": [
        "# Criando uma matriz a partir de um range de valores\n",
        "b = np.arange(1,6)\n",
        "a = np.arange (1,11)\n",
        "print(a)\n",
        "print(b)\n",
        "a.shape # retorna uma tupla de inteiros indicando o tamanho da array em cada dimensão (linhas e colunas)\n",
        "print(a.shape)\n",
        "print(b.shape)\n",
        "a.ndim # retorna o rank (número de axes, ou seja a quantidade de dimensões - linhas e colunas)\n",
        "print(a.ndim)\n",
        "print(b.ndim)\n",
        "a.size   # Retorna a quantidade de elementos de uma array\n",
        "print(a.size)\n",
        "print(b.size)"
      ],
      "metadata": {
        "colab": {
          "base_uri": "https://localhost:8080/"
        },
        "id": "Tk9EbI-SJ85h",
        "outputId": "c1d5854c-4c6d-401f-efdb-0a48eaa21f51"
      },
      "execution_count": 16,
      "outputs": [
        {
          "output_type": "stream",
          "name": "stdout",
          "text": [
            "[ 1  2  3  4  5  6  7  8  9 10]\n",
            "[1 2 3 4 5]\n",
            "(10,)\n",
            "(5,)\n",
            "1\n",
            "1\n",
            "10\n",
            "5\n"
          ]
        }
      ]
    },
    {
      "cell_type": "code",
      "source": [
        "c = np.linspace(0,10, num=10)\n",
        "c"
      ],
      "metadata": {
        "id": "Upl62-wrRmj6",
        "outputId": "87a103fe-4f12-4311-890a-6b907d66afea",
        "colab": {
          "base_uri": "https://localhost:8080/"
        }
      },
      "execution_count": 24,
      "outputs": [
        {
          "output_type": "execute_result",
          "data": {
            "text/plain": [
              "array([ 0.        ,  1.11111111,  2.22222222,  3.33333333,  4.44444444,\n",
              "        5.55555556,  6.66666667,  7.77777778,  8.88888889, 10.        ])"
            ]
          },
          "metadata": {},
          "execution_count": 24
        }
      ]
    },
    {
      "cell_type": "markdown",
      "source": [
        "- **Observação**\n",
        "\n",
        "Em uma array de 1D (uma dimensão) o número de linhas é igual ao número de elementos. Na array `a` temos uma matriz de uma dimensão com 15 linhas e 15 elementos."
      ],
      "metadata": {
        "id": "5F0DqBepKJTu"
      }
    },
    {
      "cell_type": "code",
      "source": [
        "# Criando uma matriz a partir de valores espaçados linearmente de acordo com um intervalo específico\n",
        "\n",
        "c = np.linspace(0, 100, num=10)\n",
        "print(c)"
      ],
      "metadata": {
        "colab": {
          "base_uri": "https://localhost:8080/"
        },
        "id": "hXqjZP4QMtEt",
        "outputId": "e5564047-184a-4f02-c1a3-5f70dbd15b7d"
      },
      "execution_count": null,
      "outputs": [
        {
          "output_type": "stream",
          "name": "stdout",
          "text": [
            "[  0.          11.11111111  22.22222222  33.33333333  44.44444444\n",
            "  55.55555556  66.66666667  77.77777778  88.88888889 100.        ]\n"
          ]
        }
      ]
    },
    {
      "cell_type": "markdown",
      "source": [
        "Para aprender mais sobre criação de arrays acesse: https://numpy.org/doc/stable/user/quickstart.html#quickstart-array-creation"
      ],
      "metadata": {
        "id": "Z3Pifki-Ns6V"
      }
    }
  ]
}